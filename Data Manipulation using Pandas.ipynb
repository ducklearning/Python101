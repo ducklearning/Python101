{
 "cells": [
  {
   "cell_type": "markdown",
   "metadata": {},
   "source": [
    "# Data Manipulation using Pandas"
   ]
  },
  {
   "cell_type": "code",
   "execution_count": 53,
   "metadata": {},
   "outputs": [],
   "source": [
    "import pandas as pd\n",
    "gapminder = pd.read_csv(\"gapminder.csv\",header = 0,sep = ',')"
   ]
  },
  {
   "cell_type": "code",
   "execution_count": 54,
   "metadata": {},
   "outputs": [
    {
     "data": {
      "text/plain": "       country continent  year  lifeExp       pop   gdpPercap\n0  Afghanistan      Asia  1952   28.801   8425333  779.445314\n1  Afghanistan      Asia  1957   30.332   9240934  820.853030\n2  Afghanistan      Asia  1962   31.997  10267083  853.100710\n3  Afghanistan      Asia  1967   34.020  11537966  836.197138\n4  Afghanistan      Asia  1972   36.088  13079460  739.981106",
      "text/html": "<div>\n<style scoped>\n    .dataframe tbody tr th:only-of-type {\n        vertical-align: middle;\n    }\n\n    .dataframe tbody tr th {\n        vertical-align: top;\n    }\n\n    .dataframe thead th {\n        text-align: right;\n    }\n</style>\n<table border=\"1\" class=\"dataframe\">\n  <thead>\n    <tr style=\"text-align: right;\">\n      <th></th>\n      <th>country</th>\n      <th>continent</th>\n      <th>year</th>\n      <th>lifeExp</th>\n      <th>pop</th>\n      <th>gdpPercap</th>\n    </tr>\n  </thead>\n  <tbody>\n    <tr>\n      <th>0</th>\n      <td>Afghanistan</td>\n      <td>Asia</td>\n      <td>1952</td>\n      <td>28.801</td>\n      <td>8425333</td>\n      <td>779.445314</td>\n    </tr>\n    <tr>\n      <th>1</th>\n      <td>Afghanistan</td>\n      <td>Asia</td>\n      <td>1957</td>\n      <td>30.332</td>\n      <td>9240934</td>\n      <td>820.853030</td>\n    </tr>\n    <tr>\n      <th>2</th>\n      <td>Afghanistan</td>\n      <td>Asia</td>\n      <td>1962</td>\n      <td>31.997</td>\n      <td>10267083</td>\n      <td>853.100710</td>\n    </tr>\n    <tr>\n      <th>3</th>\n      <td>Afghanistan</td>\n      <td>Asia</td>\n      <td>1967</td>\n      <td>34.020</td>\n      <td>11537966</td>\n      <td>836.197138</td>\n    </tr>\n    <tr>\n      <th>4</th>\n      <td>Afghanistan</td>\n      <td>Asia</td>\n      <td>1972</td>\n      <td>36.088</td>\n      <td>13079460</td>\n      <td>739.981106</td>\n    </tr>\n  </tbody>\n</table>\n</div>"
     },
     "execution_count": 54,
     "metadata": {},
     "output_type": "execute_result"
    }
   ],
   "source": [
    "gapminder.head() #Basic Overview of the data"
   ]
  },
  {
   "cell_type": "code",
   "execution_count": 55,
   "metadata": {},
   "outputs": [
    {
     "data": {
      "text/plain": "43.453"
     },
     "execution_count": 55,
     "metadata": {},
     "output_type": "execute_result"
    }
   ],
   "source": [
    "gapminder['lifeExp'][99] #Life expectancy of 100th"
   ]
  },
  {
   "cell_type": "code",
   "execution_count": 56,
   "metadata": {},
   "outputs": [
    {
     "data": {
      "text/plain": "       country  year   gdpPercap\n0  Afghanistan  1952  779.445314\n1  Afghanistan  1957  820.853030\n2  Afghanistan  1962  853.100710\n3  Afghanistan  1967  836.197138\n4  Afghanistan  1972  739.981106",
      "text/html": "<div>\n<style scoped>\n    .dataframe tbody tr th:only-of-type {\n        vertical-align: middle;\n    }\n\n    .dataframe tbody tr th {\n        vertical-align: top;\n    }\n\n    .dataframe thead th {\n        text-align: right;\n    }\n</style>\n<table border=\"1\" class=\"dataframe\">\n  <thead>\n    <tr style=\"text-align: right;\">\n      <th></th>\n      <th>country</th>\n      <th>year</th>\n      <th>gdpPercap</th>\n    </tr>\n  </thead>\n  <tbody>\n    <tr>\n      <th>0</th>\n      <td>Afghanistan</td>\n      <td>1952</td>\n      <td>779.445314</td>\n    </tr>\n    <tr>\n      <th>1</th>\n      <td>Afghanistan</td>\n      <td>1957</td>\n      <td>820.853030</td>\n    </tr>\n    <tr>\n      <th>2</th>\n      <td>Afghanistan</td>\n      <td>1962</td>\n      <td>853.100710</td>\n    </tr>\n    <tr>\n      <th>3</th>\n      <td>Afghanistan</td>\n      <td>1967</td>\n      <td>836.197138</td>\n    </tr>\n    <tr>\n      <th>4</th>\n      <td>Afghanistan</td>\n      <td>1972</td>\n      <td>739.981106</td>\n    </tr>\n  </tbody>\n</table>\n</div>"
     },
     "execution_count": 56,
     "metadata": {},
     "output_type": "execute_result"
    }
   ],
   "source": [
    "gapminder_subset = gapminder[['country','year','gdpPercap']] #subset by column\n",
    "# gapminder.loc[: , ['country' , 'year' , 'gdpPercap']] also works\n",
    "gapminder_subset.head()"
   ]
  },
  {
   "cell_type": "code",
   "execution_count": 57,
   "metadata": {},
   "outputs": [
    {
     "data": {
      "text/plain": "array([1952, 1957, 1962, 1967, 1972, 1977, 1982, 1987, 1992, 1997, 2002,\n       2007], dtype=int64)"
     },
     "execution_count": 57,
     "metadata": {},
     "output_type": "execute_result"
    }
   ],
   "source": [
    "gapminder['year'].unique() #Years that presented in the dataset"
   ]
  },
  {
   "cell_type": "markdown",
   "metadata": {},
   "source": [
    "# Simple Aggregation"
   ]
  },
  {
   "cell_type": "code",
   "execution_count": 58,
   "metadata": {},
   "outputs": [
    {
     "data": {
      "text/plain": "67.00742253521126"
     },
     "execution_count": 58,
     "metadata": {},
     "output_type": "execute_result"
    }
   ],
   "source": [
    "# In 2017, the average life expectancies of each country\n",
    "avg_life_countries = gapminder[gapminder['year']==2007]['lifeExp'].mean()\n",
    "avg_life_countries"
   ]
  },
  {
   "cell_type": "code",
   "execution_count": 59,
   "metadata": {},
   "outputs": [
    {
     "name": "stderr",
     "output_type": "stream",
     "text": [
      "d:\\Anaconda3\\lib\\site-packages\\ipykernel_launcher.py:2: UserWarning: Boolean Series key will be reindexed to match DataFrame index.\n",
      "  \n"
     ]
    },
    {
     "data": {
      "text/plain": "25054.481635933327"
     },
     "execution_count": 59,
     "metadata": {},
     "output_type": "execute_result"
    }
   ],
   "source": [
    "# Create a dataframe that has all countries in Europe with GDP per capita less than the average European GDP per capita in 2007? \n",
    "avg_gdp_countries = gapminder[gapminder['year']==2007][gapminder['continent']=='Europe']['gdpPercap'].mean()\n",
    "avg_gdp_countries"
   ]
  },
  {
   "cell_type": "code",
   "execution_count": 60,
   "metadata": {},
   "outputs": [
    {
     "data": {
      "text/plain": "13"
     },
     "execution_count": 60,
     "metadata": {},
     "output_type": "execute_result"
    }
   ],
   "source": [
    "countries = gapminder[(gapminder['year']==2007) & (gapminder['gdpPercap']<avg_gdp_countries) & (gapminder['continent']=='Europe')]\\\n",
    "['country'].unique()\n",
    "len(countries)  #There are 13 countries"
   ]
  },
  {
   "cell_type": "code",
   "execution_count": 61,
   "metadata": {},
   "outputs": [
    {
     "data": {
      "text/plain": "array(['Albania', 'Bosnia and Herzegovina', 'Bulgaria', 'Croatia',\n       'Czech Republic', 'Hungary', 'Montenegro', 'Poland', 'Portugal',\n       'Romania', 'Serbia', 'Slovak Republic', 'Turkey'], dtype=object)"
     },
     "execution_count": 61,
     "metadata": {},
     "output_type": "execute_result"
    }
   ],
   "source": [
    "countries"
   ]
  },
  {
   "cell_type": "code",
   "execution_count": 62,
   "metadata": {},
   "outputs": [],
   "source": [
    "gdpPercap = gapminder[(gapminder['year']==2007) & (gapminder['gdpPercap']<avg_gdp_countries) & (gapminder['continent']=='Europe')]\\\n",
    "['gdpPercap']"
   ]
  },
  {
   "cell_type": "code",
   "execution_count": 63,
   "metadata": {},
   "outputs": [
    {
     "data": {
      "text/plain": "{'Albania': 5937.029525999999,\n 'Bosnia and Herzegovina': 7446.298803,\n 'Bulgaria': 10680.79282,\n 'Croatia': 14619.222719999998,\n 'Czech Republic': 22833.30851,\n 'Hungary': 18008.94444,\n 'Montenegro': 9253.896111,\n 'Poland': 15389.924680000002,\n 'Portugal': 20509.64777,\n 'Romania': 10808.47561,\n 'Serbia': 9786.534714,\n 'Slovak Republic': 18678.31435,\n 'Turkey': 8458.276384}"
     },
     "execution_count": 63,
     "metadata": {},
     "output_type": "execute_result"
    }
   ],
   "source": [
    "dictionary = dict(zip(countries,gdpPercap))\n",
    "dictionary"
   ]
  },
  {
   "cell_type": "code",
   "execution_count": 64,
   "outputs": [],
   "source": [
    "import matplotlib.pyplot as plt"
   ],
   "metadata": {
    "collapsed": false,
    "pycharm": {
     "name": "#%%\n"
    }
   }
  },
  {
   "cell_type": "code",
   "execution_count": 65,
   "outputs": [
    {
     "data": {
      "text/plain": "     country  year     gdpPercap\n12   Albania  1952   1601.056136\n13   Albania  1957   1942.284244\n14   Albania  1962   2312.888958\n15   Albania  1967   2760.196931\n16   Albania  1972   3313.422188\n17   Albania  1977   3533.003910\n18   Albania  1982   3630.880722\n19   Albania  1987   3738.932735\n20   Albania  1992   2497.437901\n21   Albania  1997   3193.054604\n22   Albania  2002   4604.211737\n23   Albania  2007   5937.029526\n288    China  1952    400.448611\n289    China  1957    575.987001\n290    China  1962    487.674018\n291    China  1967    612.705693\n292    China  1972    676.900092\n293    China  1977    741.237470\n294    China  1982    962.421380\n295    China  1987   1378.904018\n296    China  1992   1655.784158\n297    China  1997   2289.234136\n298    China  2002   3119.280896\n299    China  2007   4959.114854\n792    Japan  1952   3216.956347\n793    Japan  1957   4317.694365\n794    Japan  1962   6576.649461\n795    Japan  1967   9847.788607\n796    Japan  1972  14778.786360\n797    Japan  1977  16610.377010\n798    Japan  1982  19384.105710\n799    Japan  1987  22375.941890\n800    Japan  1992  26824.895110\n801    Japan  1997  28816.584990\n802    Japan  2002  28604.591900\n803    Japan  2007  31656.068060",
      "text/html": "<div>\n<style scoped>\n    .dataframe tbody tr th:only-of-type {\n        vertical-align: middle;\n    }\n\n    .dataframe tbody tr th {\n        vertical-align: top;\n    }\n\n    .dataframe thead th {\n        text-align: right;\n    }\n</style>\n<table border=\"1\" class=\"dataframe\">\n  <thead>\n    <tr style=\"text-align: right;\">\n      <th></th>\n      <th>country</th>\n      <th>year</th>\n      <th>gdpPercap</th>\n    </tr>\n  </thead>\n  <tbody>\n    <tr>\n      <th>12</th>\n      <td>Albania</td>\n      <td>1952</td>\n      <td>1601.056136</td>\n    </tr>\n    <tr>\n      <th>13</th>\n      <td>Albania</td>\n      <td>1957</td>\n      <td>1942.284244</td>\n    </tr>\n    <tr>\n      <th>14</th>\n      <td>Albania</td>\n      <td>1962</td>\n      <td>2312.888958</td>\n    </tr>\n    <tr>\n      <th>15</th>\n      <td>Albania</td>\n      <td>1967</td>\n      <td>2760.196931</td>\n    </tr>\n    <tr>\n      <th>16</th>\n      <td>Albania</td>\n      <td>1972</td>\n      <td>3313.422188</td>\n    </tr>\n    <tr>\n      <th>17</th>\n      <td>Albania</td>\n      <td>1977</td>\n      <td>3533.003910</td>\n    </tr>\n    <tr>\n      <th>18</th>\n      <td>Albania</td>\n      <td>1982</td>\n      <td>3630.880722</td>\n    </tr>\n    <tr>\n      <th>19</th>\n      <td>Albania</td>\n      <td>1987</td>\n      <td>3738.932735</td>\n    </tr>\n    <tr>\n      <th>20</th>\n      <td>Albania</td>\n      <td>1992</td>\n      <td>2497.437901</td>\n    </tr>\n    <tr>\n      <th>21</th>\n      <td>Albania</td>\n      <td>1997</td>\n      <td>3193.054604</td>\n    </tr>\n    <tr>\n      <th>22</th>\n      <td>Albania</td>\n      <td>2002</td>\n      <td>4604.211737</td>\n    </tr>\n    <tr>\n      <th>23</th>\n      <td>Albania</td>\n      <td>2007</td>\n      <td>5937.029526</td>\n    </tr>\n    <tr>\n      <th>288</th>\n      <td>China</td>\n      <td>1952</td>\n      <td>400.448611</td>\n    </tr>\n    <tr>\n      <th>289</th>\n      <td>China</td>\n      <td>1957</td>\n      <td>575.987001</td>\n    </tr>\n    <tr>\n      <th>290</th>\n      <td>China</td>\n      <td>1962</td>\n      <td>487.674018</td>\n    </tr>\n    <tr>\n      <th>291</th>\n      <td>China</td>\n      <td>1967</td>\n      <td>612.705693</td>\n    </tr>\n    <tr>\n      <th>292</th>\n      <td>China</td>\n      <td>1972</td>\n      <td>676.900092</td>\n    </tr>\n    <tr>\n      <th>293</th>\n      <td>China</td>\n      <td>1977</td>\n      <td>741.237470</td>\n    </tr>\n    <tr>\n      <th>294</th>\n      <td>China</td>\n      <td>1982</td>\n      <td>962.421380</td>\n    </tr>\n    <tr>\n      <th>295</th>\n      <td>China</td>\n      <td>1987</td>\n      <td>1378.904018</td>\n    </tr>\n    <tr>\n      <th>296</th>\n      <td>China</td>\n      <td>1992</td>\n      <td>1655.784158</td>\n    </tr>\n    <tr>\n      <th>297</th>\n      <td>China</td>\n      <td>1997</td>\n      <td>2289.234136</td>\n    </tr>\n    <tr>\n      <th>298</th>\n      <td>China</td>\n      <td>2002</td>\n      <td>3119.280896</td>\n    </tr>\n    <tr>\n      <th>299</th>\n      <td>China</td>\n      <td>2007</td>\n      <td>4959.114854</td>\n    </tr>\n    <tr>\n      <th>792</th>\n      <td>Japan</td>\n      <td>1952</td>\n      <td>3216.956347</td>\n    </tr>\n    <tr>\n      <th>793</th>\n      <td>Japan</td>\n      <td>1957</td>\n      <td>4317.694365</td>\n    </tr>\n    <tr>\n      <th>794</th>\n      <td>Japan</td>\n      <td>1962</td>\n      <td>6576.649461</td>\n    </tr>\n    <tr>\n      <th>795</th>\n      <td>Japan</td>\n      <td>1967</td>\n      <td>9847.788607</td>\n    </tr>\n    <tr>\n      <th>796</th>\n      <td>Japan</td>\n      <td>1972</td>\n      <td>14778.786360</td>\n    </tr>\n    <tr>\n      <th>797</th>\n      <td>Japan</td>\n      <td>1977</td>\n      <td>16610.377010</td>\n    </tr>\n    <tr>\n      <th>798</th>\n      <td>Japan</td>\n      <td>1982</td>\n      <td>19384.105710</td>\n    </tr>\n    <tr>\n      <th>799</th>\n      <td>Japan</td>\n      <td>1987</td>\n      <td>22375.941890</td>\n    </tr>\n    <tr>\n      <th>800</th>\n      <td>Japan</td>\n      <td>1992</td>\n      <td>26824.895110</td>\n    </tr>\n    <tr>\n      <th>801</th>\n      <td>Japan</td>\n      <td>1997</td>\n      <td>28816.584990</td>\n    </tr>\n    <tr>\n      <th>802</th>\n      <td>Japan</td>\n      <td>2002</td>\n      <td>28604.591900</td>\n    </tr>\n    <tr>\n      <th>803</th>\n      <td>Japan</td>\n      <td>2007</td>\n      <td>31656.068060</td>\n    </tr>\n  </tbody>\n</table>\n</div>"
     },
     "execution_count": 65,
     "metadata": {},
     "output_type": "execute_result"
    },
    {
     "data": {
      "text/plain": "<Figure size 432x288 with 1 Axes>",
      "image/png": "[encoded data removed]"
     },
     "metadata": {
      "needs_background": "light"
     },
     "output_type": "display_data"
    }
   ],
   "source": [
    "ax = plt.gca()\n",
    "df = gapminder_subset[gapminder_subset.country.isin(['China','Japan','Albania'])]\n",
    "df\n"
   ],
   "metadata": {
    "collapsed": false,
    "pycharm": {
     "name": "#%%\n"
    }
   }
  },
  {
   "cell_type": "code",
   "execution_count": 66,
   "outputs": [
    {
     "data": {
      "text/plain": "country\nAlbania    AxesSubplot(0.125,0.125;0.775x0.755)\nChina      AxesSubplot(0.125,0.125;0.775x0.755)\nJapan      AxesSubplot(0.125,0.125;0.775x0.755)\nName: gdpPercap, dtype: object"
     },
     "execution_count": 66,
     "metadata": {},
     "output_type": "execute_result"
    },
    {
     "data": {
      "text/plain": "<Figure size 432x288 with 1 Axes>",
      "image/png": "[encoded data removed]"
     },
     "metadata": {
      "needs_background": "light"
     },
     "output_type": "display_data"
    }
   ],
   "source": [
    "df.set_index('year',inplace = True)\n",
    "df.groupby('country')['gdpPercap'].\\\n",
    "    plot(legend = True)\n"
   ],
   "metadata": {
    "collapsed": false,
    "pycharm": {
     "name": "#%%\n"
    }
   }
  },
  {
   "cell_type": "code",
   "execution_count": 66,
   "outputs": [],
   "source": [
    "\n"
   ],
   "metadata": {
    "collapsed": false,
    "pycharm": {
     "name": "#%%\n"
    }
   }
  }
 ],
 "metadata": {
  "kernelspec": {
   "display_name": "Python 3",
   "language": "python",
   "name": "python3"
  },
  "language_info": {
   "codemirror_mode": {
    "name": "ipython",
    "version": 3
   },
   "file_extension": ".py",
   "mimetype": "text/x-python",
   "name": "python",
   "nbconvert_exporter": "python",
   "pygments_lexer": "ipython3",
   "version": "3.7.3"
  }
 },
 "nbformat": 4,
 "nbformat_minor": 2
}